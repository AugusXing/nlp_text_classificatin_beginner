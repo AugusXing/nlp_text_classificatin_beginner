{
 "cells": [
  {
   "cell_type": "code",
   "execution_count": 1,
   "metadata": {},
   "outputs": [],
   "source": [
    "import tensorflow as tf\n",
    "import tensorflow.keras as K\n",
    "import tensorflow.keras.layers as L\n",
    "import numpy as np\n",
    "from collections import Counter\n",
    "from sklearn.model_selection import train_test_split\n",
    "import matplotlib.pyplot as plt\n",
    "from tensorflow.keras.preprocessing.text import Tokenizer "
   ]
  },
  {
   "cell_type": "code",
   "execution_count": 2,
   "metadata": {},
   "outputs": [],
   "source": [
    "class TrainingConfig():\n",
    "    epochs = 5\n",
    "    batch_size= 128\n",
    "    learningRate=0.001\n",
    "    valRate=0.1\n",
    "    loss=['sparse_categorical_crossentropy']\n",
    "    metrics=['accuracy']\n",
    "    optimizer='adam'\n",
    "    \n",
    "class WordEmbedding():\n",
    "    sequenceLength=256\n",
    "    wordCount=10000\n",
    "    wordDim=10\n",
    "\n",
    "class DataSourceConfig():\n",
    "    source=[\"./dataset/imdb_train_data.npy\",\n",
    "           \"./dataset/imdb_test_data.npy\",\n",
    "           \"./dataset/imdb_train_labels.npy\",\n",
    "           \"./dataset/imdb_test_labels.npy\"]"
   ]
  },
  {
   "cell_type": "code",
   "execution_count": 79,
   "metadata": {},
   "outputs": [],
   "source": [
    "class AttentionLayer(L.Layer):\n",
    "    def __init__(self,output_dim,**kwargs):\n",
    "        self.output_dim=output_dim\n",
    "        super(AttentionLayer,self).__init__(**kwargs)\n",
    "        \n",
    "    def build(self,input_shape):\n",
    "        self.kernel=self.add_weight(name='kernel',shape=(input_shape[2],1),\n",
    "                                   initializer='uniform',\n",
    "                                    trainable=True\n",
    "                                   )\n",
    "        super(AttentionLayer,self).build(input_shape)\n",
    "        \n",
    "    def call(self,h):\n",
    "        M=L.Activation(\"tanh\")(h)\n",
    "        a=tf.matmul(self.kernel,M,transpose_a=True,transpose_b=True)\n",
    "        a=L.Activation(\"softmax\")(a)\n",
    "        r=tf.matmul(a,h)\n",
    "        h_=L.Activation(\"tanh\")(r)\n",
    "        # 天坑,不加这个识别不出来形状\n",
    "        h_=tf.squeeze(h_,1)\n",
    "        return h_\n",
    "        \n",
    "    def compute_output_shape(self,input_shape):\n",
    "        return (input_shape[0],self.output_dim)"
   ]
  },
  {
   "cell_type": "code",
   "execution_count": 80,
   "metadata": {},
   "outputs": [],
   "source": [
    "class Bi_LSTM_Attention():\n",
    "    def __init__(self,config,wordEmbedding):\n",
    "        \n",
    "        self.model = None\n",
    "        self.history = None\n",
    "        self.config=config\n",
    "        self.emb=wordEmbedding\n",
    "        self.name=\"Bi_LSTM_Attention\"\n",
    "    \n",
    "    def design_model(self,hiden_size=32,with_fc=False):\n",
    "        input_layer=L.Input(shape=(self.emb.sequenceLength,),name='feature_input')\n",
    "        w=L.Embedding(input_dim=self.emb.wordCount,output_dim=self.emb.wordDim,input_length=self.emb.sequenceLength)(input_layer)\n",
    "        x=w\n",
    "        x=L.Bidirectional(L.LSTM(hiden_size,dropout=0.4,return_sequences=True),merge_mode='sum')(x)\n",
    "\n",
    "        #与x的最后一层一致\n",
    "        x=AttentionLayer(hiden_size)(x)\n",
    "        \n",
    "        if with_fc:\n",
    "            x=L.Dense(hiden_size,activation='relu')(x)\n",
    "        \n",
    "        output_layer=L.Dense(2,activation='softmax')(x)\n",
    "        model=K.models.Model(inputs=[input_layer],outputs=[output_layer],name=self.name)\n",
    "        self.model=model\n",
    "        model.summary()\n",
    "        return model\n",
    "    \n",
    "    \n",
    "    def compile_model(self):\n",
    "        #assert()\n",
    "        if not self.model:\n",
    "            print(\"Call design_modelXX() to build the model first.\")\n",
    "            return\n",
    "        self.model.compile(optimizer=self.config.optimizer,loss=self.config.loss,metrics=self.config.metrics)\n",
    "\n",
    "    def train_model(self,x,y):\n",
    "        if not self.model:\n",
    "            print(\"Call design_modelXX() to build the model first.\")\n",
    "            return\n",
    "        self.compile_model()\n",
    "        self.history=self.model.fit(x=x,y=y,batch_size=self.config.batch_size,epochs=self.config.epochs,validation_split=self.config.valRate)\n",
    "        #self.model.compile()\n",
    "    \n",
    "    def save_model(self):\n",
    "        if not self.model:\n",
    "            print(\"Call design_modelXX() to build the model first.\")\n",
    "        pass\n",
    "    \n",
    "    def eval_model(self):\n",
    "        if not self.model:\n",
    "            print(\"Call design_modelXX() to build the model first.\")\n",
    "        pass\n",
    "    \n",
    "    def view_train(self):\n",
    "        if not self.history:\n",
    "            print(\"Model has not been trained, train it first\")\n",
    "            return\n",
    "        \n",
    "        train=self.history.history[\"loss\"]\n",
    "        valid=self.history.history[\"val_loss\"]\n",
    "        name='loss'\n",
    "        plt.title('The %s with epoch runs'%name,fontsize=30)\n",
    "        plt.xlabel('epoch',fontsize=20)\n",
    "        plt.ylabel(name,fontsize=20)\n",
    "        plt.xticks(fontsize=20)\n",
    "        plt.yticks(fontsize=20)\n",
    "        plt.plot(train,label=name)\n",
    "        plt.plot(valid,label=\"val_\"+name)\n",
    "        plt.legend()\n",
    "        plt.gcf().set_size_inches(15,4)\n",
    "        plt.show()\n",
    "    #model=K.models.Model(inputs=[input_layer],outputs=[output_layer])\n",
    "    #model.compile('adam',loss='categorical_crossentropy',metrics=metrics)\n",
    "    #return model"
   ]
  },
  {
   "cell_type": "code",
   "execution_count": 81,
   "metadata": {},
   "outputs": [],
   "source": [
    "train_config=TrainingConfig()\n",
    "word_embedding=WordEmbedding()\n",
    "model=Bi_LSTM_Attention(train_config,word_embedding)"
   ]
  },
  {
   "cell_type": "code",
   "execution_count": 82,
   "metadata": {},
   "outputs": [
    {
     "name": "stdout",
     "output_type": "stream",
     "text": [
      "Model: \"Bi_LSTM_Attention\"\n",
      "_________________________________________________________________\n",
      "Layer (type)                 Output Shape              Param #   \n",
      "=================================================================\n",
      "feature_input (InputLayer)   [(None, 256)]             0         \n",
      "_________________________________________________________________\n",
      "embedding_11 (Embedding)     (None, 256, 10)           100000    \n",
      "_________________________________________________________________\n",
      "bidirectional_11 (Bidirectio (None, 256, 32)           11008     \n",
      "_________________________________________________________________\n",
      "attention_layer_20 (Attentio (None, 32)                32        \n",
      "_________________________________________________________________\n",
      "dense_7 (Dense)              (None, 2)                 66        \n",
      "=================================================================\n",
      "Total params: 111,106\n",
      "Trainable params: 111,106\n",
      "Non-trainable params: 0\n",
      "_________________________________________________________________\n"
     ]
    },
    {
     "data": {
      "text/plain": [
       "<tensorflow.python.keras.engine.training.Model at 0x7febf1e63358>"
      ]
     },
     "execution_count": 82,
     "metadata": {},
     "output_type": "execute_result"
    }
   ],
   "source": [
    "model.design_model(with_fc=False)"
   ]
  },
  {
   "cell_type": "code",
   "execution_count": 83,
   "metadata": {},
   "outputs": [],
   "source": [
    "class Dataset():\n",
    "    def __init__(self,config):\n",
    "        self.config=config\n",
    "    def load(self):\n",
    "        L=[]\n",
    "        for item in self.config.source:\n",
    "            L.append(np.load(item,allow_pickle=True, fix_imports=True))\n",
    "        return L"
   ]
  },
  {
   "cell_type": "code",
   "execution_count": 84,
   "metadata": {},
   "outputs": [],
   "source": [
    "data=Dataset(DataSourceConfig)\n",
    "train_data,test_data,train_labels,test_labels=data.load()"
   ]
  },
  {
   "cell_type": "code",
   "execution_count": 85,
   "metadata": {},
   "outputs": [
    {
     "name": "stdout",
     "output_type": "stream",
     "text": [
      "Train on 22500 samples, validate on 2500 samples\n",
      "Epoch 1/5\n",
      "22500/22500 [==============================] - 7s 294us/sample - loss: 0.5445 - accuracy: 0.7127 - val_loss: 0.3811 - val_accuracy: 0.8580\n",
      "Epoch 2/5\n",
      "22500/22500 [==============================] - 5s 214us/sample - loss: 0.2938 - accuracy: 0.8836 - val_loss: 0.3134 - val_accuracy: 0.8672\n",
      "Epoch 3/5\n",
      "22500/22500 [==============================] - 6s 276us/sample - loss: 0.2228 - accuracy: 0.9140 - val_loss: 0.3145 - val_accuracy: 0.8844\n",
      "Epoch 4/5\n",
      "22500/22500 [==============================] - 4s 199us/sample - loss: 0.1868 - accuracy: 0.9307 - val_loss: 0.3113 - val_accuracy: 0.8852\n",
      "Epoch 5/5\n",
      "22500/22500 [==============================] - 7s 296us/sample - loss: 0.1603 - accuracy: 0.9429 - val_loss: 0.3558 - val_accuracy: 0.8752\n"
     ]
    }
   ],
   "source": [
    "model.train_model(x=train_data,y=train_labels)"
   ]
  },
  {
   "cell_type": "code",
   "execution_count": 78,
   "metadata": {},
   "outputs": [
    {
     "data": {
      "image/png": "[encoded data removed]",
      "text/plain": [
       "<Figure size 1080x288 with 1 Axes>"
      ]
     },
     "metadata": {
      "needs_background": "light"
     },
     "output_type": "display_data"
    }
   ],
   "source": [
    "model.view_train()"
   ]
  },
  {
   "cell_type": "code",
   "execution_count": null,
   "metadata": {},
   "outputs": [],
   "source": []
  }
 ],
 "metadata": {
  "kernelspec": {
   "display_name": "Python 3",
   "language": "python",
   "name": "python3"
  },
  "language_info": {
   "codemirror_mode": {
    "name": "ipython",
    "version": 3
   },
   "file_extension": ".py",
   "mimetype": "text/x-python",
   "name": "python",
   "nbconvert_exporter": "python",
   "pygments_lexer": "ipython3",
   "version": "3.6.8"
  }
 },
 "nbformat": 4,
 "nbformat_minor": 2
}

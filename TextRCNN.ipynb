{
 "cells": [
  {
   "cell_type": "code",
   "execution_count": 36,
   "metadata": {},
   "outputs": [],
   "source": [
    "import tensorflow as tf\n",
    "import tensorflow.keras as K\n",
    "import tensorflow.keras.layers as L\n",
    "import numpy as np\n",
    "from collections import Counter\n",
    "from sklearn.model_selection import train_test_split\n",
    "import matplotlib.pyplot as plt\n",
    "from tensorflow.keras.preprocessing.text import Tokenizer "
   ]
  },
  {
   "cell_type": "code",
   "execution_count": 37,
   "metadata": {},
   "outputs": [],
   "source": [
    "class TrainingConfig():\n",
    "    epochs = 5\n",
    "    batch_size= 128\n",
    "    learningRate=0.001\n",
    "    valRate=0.1\n",
    "    loss=['sparse_categorical_crossentropy']\n",
    "    metrics=['accuracy']\n",
    "    optimizer='adam'\n",
    "    \n",
    "class WordEmbedding():\n",
    "    sequenceLength=256\n",
    "    wordCount=10000\n",
    "    wordDim=10\n",
    "\n",
    "class DataSourceConfig():\n",
    "    source=[\"./dataset/imdb_train_data.npy\",\n",
    "           \"./dataset/imdb_test_data.npy\",\n",
    "           \"./dataset/imdb_train_labels.npy\",\n",
    "           \"./dataset/imdb_test_labels.npy\"]"
   ]
  },
  {
   "cell_type": "code",
   "execution_count": 105,
   "metadata": {},
   "outputs": [],
   "source": [
    "class TextRCNN():\n",
    "    def __init__(self,config,wordEmbedding):\n",
    "        \n",
    "        self.model = None\n",
    "        self.history = None\n",
    "        self.config=config\n",
    "        self.emb=wordEmbedding\n",
    "        self.name=\"TextRCNN\"\n",
    "      \n",
    "    \n",
    "    def design_model(self,hiden_size=32,with_fc=False):\n",
    "        input_layer=L.Input(shape=(None,),name='feature_input')\n",
    "        w=L.Embedding(input_dim=self.emb.wordCount,output_dim=self.emb.wordDim,input_length=self.emb.sequenceLength)(input_layer)\n",
    "        x=w\n",
    "        lx,rx=L.Bidirectional(L.LSTM(hiden_size,dropout=0.4,return_sequences=True),merge_mode=None)(x)\n",
    "        x=L.concatenate([lx,w,rx])\n",
    "        x=L.Dense(x.shape[-1],activation=\"tanh\")(x)\n",
    "        #x=L.Conv1D(filters=1,kernel_size=3,activation=\"relu\")(x)\n",
    "        x=L.GlobalMaxPool1D()(x)\n",
    "        \n",
    "        \n",
    "        if with_fc:\n",
    "            x=L.Dense(hiden_size,activation='relu')(x)\n",
    "        \n",
    "        output_layer=L.Dense(2,activation='softmax')(x)\n",
    "        model=K.models.Model(inputs=[input_layer],outputs=[output_layer],name=self.name)\n",
    "        self.model=model\n",
    "        model.summary()\n",
    "        return model\n",
    "    \n",
    "    \n",
    "    def design_model_with_bilstm_2DCNN(self,hiden_size=32,with_fc=False):\n",
    "        #要进行展平所以必须确定输入长度\n",
    "        input_layer=L.Input(shape=(self.emb.sequenceLength,),name='feature_input')\n",
    "        x=L.Embedding(input_dim=self.emb.wordCount,output_dim=self.emb.wordDim,input_length=self.emb.sequenceLength)(input_layer)\n",
    "        x=L.Bidirectional(L.LSTM(hiden_size,dropout=0.4,return_sequences=True))(x)\n",
    "        x=tf.expand_dims(x,-1)\n",
    "        x=L.Conv2D(filters=5,kernel_size=3,activation='relu')(x)\n",
    "        x=L.MaxPool2D(strides=2)(x)\n",
    "        x=L.Flatten()(x)\n",
    "        x=L.Dropout(0.5)(x)\n",
    "        if with_fc:\n",
    "            x=L.Dense(hiden_size,activation='relu')(x)\n",
    "        output_layer=L.Dense(2,activation='softmax')(x)\n",
    "        model=K.models.Model(inputs=[input_layer],outputs=[output_layer],name=self.name)\n",
    "        self.model=model\n",
    "        model.summary()\n",
    "        return model\n",
    "        \n",
    "    \n",
    "    def compile_model(self):\n",
    "        #assert()\n",
    "        if not self.model:\n",
    "            print(\"Call design_modelXX() to build the model first.\")\n",
    "            return\n",
    "        self.model.compile(optimizer=self.config.optimizer,loss=self.config.loss,metrics=self.config.metrics)\n",
    "\n",
    "    def train_model(self,x,y):\n",
    "        if not self.model:\n",
    "            print(\"Call design_modelXX() to build the model first.\")\n",
    "            return\n",
    "        self.compile_model()\n",
    "        self.history=self.model.fit(x=x,y=y,batch_size=self.config.batch_size,epochs=self.config.epochs,validation_split=self.config.valRate)\n",
    "        #self.model.compile()\n",
    "    \n",
    "    def save_model(self):\n",
    "        if not self.model:\n",
    "            print(\"Call design_modelXX() to build the model first.\")\n",
    "        pass\n",
    "    \n",
    "    def eval_model(self):\n",
    "        if not self.model:\n",
    "            print(\"Call design_modelXX() to build the model first.\")\n",
    "        pass\n",
    "    \n",
    "    def view_train(self):\n",
    "        if not self.history:\n",
    "            print(\"Model has not been trained, train it first\")\n",
    "            return\n",
    "        \n",
    "        train=self.history.history[\"loss\"]\n",
    "        valid=self.history.history[\"val_loss\"]\n",
    "        name='loss'\n",
    "        plt.title('The %s with epoch runs'%name,fontsize=30)\n",
    "        plt.xlabel('epoch',fontsize=20)\n",
    "        plt.ylabel(name,fontsize=20)\n",
    "        plt.xticks(fontsize=20)\n",
    "        plt.yticks(fontsize=20)\n",
    "        plt.plot(train,label=name)\n",
    "        plt.plot(valid,label=\"val_\"+name)\n",
    "        plt.legend()\n",
    "        plt.gcf().set_size_inches(15,4)\n",
    "        plt.show()\n",
    "    #model=K.models.Model(inputs=[input_layer],outputs=[output_layer])\n",
    "    #model.compile('adam',loss='categorical_crossentropy',metrics=metrics)\n",
    "    #return model"
   ]
  },
  {
   "cell_type": "code",
   "execution_count": 108,
   "metadata": {},
   "outputs": [],
   "source": [
    "train_config=TrainingConfig()\n",
    "word_embedding=WordEmbedding()\n",
    "model=TextRCNN(train_config,word_embedding)"
   ]
  },
  {
   "cell_type": "code",
   "execution_count": 109,
   "metadata": {},
   "outputs": [
    {
     "name": "stdout",
     "output_type": "stream",
     "text": [
      "Model: \"TextRCNN\"\n",
      "__________________________________________________________________________________________________\n",
      "Layer (type)                    Output Shape         Param #     Connected to                     \n",
      "==================================================================================================\n",
      "feature_input (InputLayer)      [(None, None)]       0                                            \n",
      "__________________________________________________________________________________________________\n",
      "embedding_26 (Embedding)        (None, None, 10)     100000      feature_input[0][0]              \n",
      "__________________________________________________________________________________________________\n",
      "bidirectional_26 (Bidirectional [(None, None, 32), ( 11008       embedding_26[0][0]               \n",
      "__________________________________________________________________________________________________\n",
      "concatenate_12 (Concatenate)    (None, None, 74)     0           bidirectional_26[0][0]           \n",
      "                                                                 embedding_26[0][0]               \n",
      "                                                                 bidirectional_26[0][1]           \n",
      "__________________________________________________________________________________________________\n",
      "dense_30 (Dense)                (None, None, 74)     5550        concatenate_12[0][0]             \n",
      "__________________________________________________________________________________________________\n",
      "global_max_pooling1d_8 (GlobalM (None, 74)           0           dense_30[0][0]                   \n",
      "__________________________________________________________________________________________________\n",
      "dense_31 (Dense)                (None, 2)            150         global_max_pooling1d_8[0][0]     \n",
      "==================================================================================================\n",
      "Total params: 116,708\n",
      "Trainable params: 116,708\n",
      "Non-trainable params: 0\n",
      "__________________________________________________________________________________________________\n"
     ]
    },
    {
     "data": {
      "text/plain": [
       "<tensorflow.python.keras.engine.training.Model at 0x7faeaf010cf8>"
      ]
     },
     "execution_count": 109,
     "metadata": {},
     "output_type": "execute_result"
    }
   ],
   "source": [
    "model.design_model(with_fc=False)"
   ]
  },
  {
   "cell_type": "code",
   "execution_count": 110,
   "metadata": {},
   "outputs": [],
   "source": [
    "class Dataset():\n",
    "    def __init__(self,config):\n",
    "        self.config=config\n",
    "    def load(self):\n",
    "        L=[]\n",
    "        for item in self.config.source:\n",
    "            L.append(np.load(item,allow_pickle=True, fix_imports=True))\n",
    "        return L"
   ]
  },
  {
   "cell_type": "code",
   "execution_count": 111,
   "metadata": {},
   "outputs": [],
   "source": [
    "data=Dataset(DataSourceConfig)\n",
    "train_data,test_data,train_labels,test_labels=data.load()"
   ]
  },
  {
   "cell_type": "code",
   "execution_count": 112,
   "metadata": {},
   "outputs": [
    {
     "name": "stdout",
     "output_type": "stream",
     "text": [
      "Train on 22500 samples, validate on 2500 samples\n",
      "Epoch 1/5\n",
      "22500/22500 [==============================] - 9s 392us/sample - loss: 0.5497 - accuracy: 0.7220 - val_loss: 0.3173 - val_accuracy: 0.8728\n",
      "Epoch 2/5\n",
      "22500/22500 [==============================] - 6s 264us/sample - loss: 0.2605 - accuracy: 0.8939 - val_loss: 0.2832 - val_accuracy: 0.8892\n",
      "Epoch 3/5\n",
      "22500/22500 [==============================] - 7s 333us/sample - loss: 0.1962 - accuracy: 0.9242 - val_loss: 0.2752 - val_accuracy: 0.8904\n",
      "Epoch 4/5\n",
      "22500/22500 [==============================] - 6s 258us/sample - loss: 0.1628 - accuracy: 0.9388 - val_loss: 0.2919 - val_accuracy: 0.8892\n",
      "Epoch 5/5\n",
      "22500/22500 [==============================] - 6s 276us/sample - loss: 0.1354 - accuracy: 0.9482 - val_loss: 0.3423 - val_accuracy: 0.8812\n"
     ]
    }
   ],
   "source": [
    "model.train_model(x=train_data,y=train_labels)"
   ]
  },
  {
   "cell_type": "code",
   "execution_count": 44,
   "metadata": {},
   "outputs": [
    {
     "data": {
      "image/png": "[encoded data removed]",
      "text/plain": [
       "<Figure size 1080x288 with 1 Axes>"
      ]
     },
     "metadata": {
      "needs_background": "light"
     },
     "output_type": "display_data"
    }
   ],
   "source": [
    "model.view_train()"
   ]
  },
  {
   "cell_type": "code",
   "execution_count": null,
   "metadata": {},
   "outputs": [],
   "source": []
  }
 ],
 "metadata": {
  "kernelspec": {
   "display_name": "Python 3",
   "language": "python",
   "name": "python3"
  },
  "language_info": {
   "codemirror_mode": {
    "name": "ipython",
    "version": 3
   },
   "file_extension": ".py",
   "mimetype": "text/x-python",
   "name": "python",
   "nbconvert_exporter": "python",
   "pygments_lexer": "ipython3",
   "version": "3.6.8"
  }
 },
 "nbformat": 4,
 "nbformat_minor": 2
}

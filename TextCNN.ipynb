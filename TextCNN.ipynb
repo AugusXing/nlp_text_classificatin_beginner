{
 "cells": [
  {
   "cell_type": "markdown",
   "metadata": {},
   "source": [
    "# TextCNN"
   ]
  },
  {
   "cell_type": "markdown",
   "metadata": {},
   "source": [
    "参数配置，训练数据生成，模型结构，训练模型。"
   ]
  },
  {
   "cell_type": "code",
   "execution_count": 1,
   "metadata": {},
   "outputs": [],
   "source": [
    "import tensorflow as tf\n",
    "import tensorflow.keras as K\n",
    "import tensorflow.keras.layers as L\n",
    "import numpy as np\n",
    "from collections import Counter\n",
    "from sklearn.model_selection import train_test_split\n",
    "import matplotlib.pyplot as plt\n",
    "from tensorflow.keras.preprocessing.text import Tokenizer "
   ]
  },
  {
   "cell_type": "code",
   "execution_count": 2,
   "metadata": {},
   "outputs": [],
   "source": [
    "class TrainingConfig():\n",
    "    epochs = 5\n",
    "    batch_size= 128\n",
    "    learningRate=0.001\n",
    "    valRate=0.1\n",
    "    loss=['sparse_categorical_crossentropy']\n",
    "    metrics=['accuracy']\n",
    "    optimizer='adam'\n",
    "    \n",
    "class WordEmbedding():\n",
    "    sequenceLength=256\n",
    "    wordCount=10000\n",
    "    wordDim=10\n",
    "\n",
    "class DataSourceConfig():\n",
    "    source=[\"./dataset/imdb_train_data.npy\",\n",
    "           \"./dataset/imdb_test_data.npy\",\n",
    "           \"./dataset/imdb_train_labels.npy\",\n",
    "           \"./dataset/imdb_test_labels.npy\"]"
   ]
  },
  {
   "cell_type": "code",
   "execution_count": 59,
   "metadata": {},
   "outputs": [],
   "source": [
    "class TextCNN():\n",
    "    def __init__(self,config,wordEmbedding):\n",
    "        \n",
    "        self.model = None\n",
    "        self.history = None\n",
    "        self.config=config\n",
    "        self.emb=wordEmbedding\n",
    "        self.name=\"TextCNN\"\n",
    "        \n",
    "    def conv1D_with_bn_gp(self,filters,kernel_size):\n",
    "        blk = K.models.Sequential()\n",
    "        blk.add(L.Conv1D(filters=filters,kernel_size=kernel_size))\n",
    "        blk.add(L.BatchNormalization())\n",
    "        blk.add(L.Activation(\"relu\"))\n",
    "        blk.add(L.GlobalMaxPool1D())\n",
    "        return blk\n",
    "    \n",
    "    def design_model(self,hiden_size=64):\n",
    "        input_layer=L.Input(shape=(None,),name='feature_input')\n",
    "        x=L.Embedding(input_dim=self.emb.wordCount,output_dim=self.emb.wordDim,input_length=self.emb.sequenceLength)(input_layer)\n",
    "        \n",
    "        x=L.Conv1D(filters=100,kernel_size=5)(x)\n",
    "        x=L.BatchNormalization()(x)\n",
    "        x=L.Activation(\"relu\")(x)\n",
    "        x=L.GlobalMaxPool1D()(x)\n",
    "        \n",
    "        x=L.Dense(hiden_size,activation='relu',name=\"feature_output\")(x)\n",
    "        output_layer=L.Dense(2,activation='softmax')(x)\n",
    "        model=K.models.Model(inputs=[input_layer],outputs=[output_layer],name=self.name)\n",
    "        self.model=model\n",
    "        model.summary()\n",
    "        return model\n",
    "    \n",
    "    \n",
    "    def design_model_with_multi_kernel_size(self,hiden_size=64):\n",
    "        input_layer=L.Input(shape=(None,),name='feature_input')\n",
    "        x=L.Embedding(input_dim=self.emb.wordCount,output_dim=self.emb.wordDim,input_length=self.emb.sequenceLength)(input_layer)\n",
    "        \n",
    "        \n",
    "        x_5=self.conv1D_with_bn_gp(filters=100,kernel_size=5)(x)\n",
    "        x_4=self.conv1D_with_bn_gp(filters=100,kernel_size=4)(x)\n",
    "        x_3=self.conv1D_with_bn_gp(filters=100,kernel_size=3)(x)\n",
    "        \n",
    "        x=L.concatenate([x_3,x_4,x_5])\n",
    "        x=L.Dense(hiden_size,activation='relu',name=\"feature_output\")(x)\n",
    "        x=L.Dropout(0.5)(x)\n",
    "        output_layer=L.Dense(2,activation='softmax')(x)\n",
    "        \n",
    "        model=K.models.Model(inputs=[input_layer],outputs=[output_layer],name=self.name)\n",
    "        self.model=model\n",
    "        model.summary()\n",
    "        return model\n",
    "    \n",
    "    def compile_model(self):\n",
    "        #assert()\n",
    "        if not self.model:\n",
    "            print(\"Call design_modelXX() to build the model first.\")\n",
    "            return\n",
    "        self.model.compile(optimizer=self.config.optimizer,loss=self.config.loss,metrics=self.config.metrics)\n",
    "\n",
    "    def train_model(self,x,y):\n",
    "        if not self.model:\n",
    "            print(\"Call design_modelXX() to build the model first.\")\n",
    "            return\n",
    "        self.compile_model()\n",
    "        self.history=self.model.fit(x=x,y=y,batch_size=self.config.batch_size,epochs=self.config.epochs,validation_split=self.config.valRate)\n",
    "        #self.model.compile()\n",
    "    def train_model_custom(self,x,y):\n",
    "        if not self.model:\n",
    "            print(\"Call design_modelXX() to build the model first.\")\n",
    "        x_train,x_val,y_train,y_val=train_test_split(x,y,test_size=0.1)\n",
    "        print(x_train.shape)\n",
    "        print(x_val.shape)\n",
    "        train_dataset = tf.data.Dataset.from_tensor_slices((x_train,y_train)).batch(self.config.batch_size)\n",
    "        \n",
    "        val_dataset = tf.data.Dataset.from_tensor_slices((x_val,y_val)).batch(self.config.batch_size)\n",
    "\n",
    "        #loss\n",
    "        loss_fn=K.losses.get(self.config.loss[0])\n",
    "        #opt\n",
    "        optimizer=K.optimizers.Adam()\n",
    "        #metric\n",
    "        train_acc_metric=K.metrics.SparseCategoricalAccuracy()#self.config.metrics[0])\n",
    "        val_acc_metric  =K.metrics.SparseCategoricalAccuracy()#self.config.metrics[0])\n",
    "        \n",
    "        for times in range(self.config.epochs):\n",
    "            step=0\n",
    "            # 训练过程\n",
    "            for x_batch_train, y_batch_train in train_dataset:\n",
    "                with tf.GradientTape() as tp:\n",
    "                    logits=self.model(x_batch_train)\n",
    "                    loss=loss_fn(y_batch_train,logits)\n",
    "                grads=tp.gradient(loss,self.model.trainable_weights)\n",
    "                optimizer.apply_gradients(zip(grads, self.model.trainable_weights))\n",
    "                train_acc_metric.update_state(y_batch_train,logits)\n",
    "                \n",
    "                if step % 50 == 0:\n",
    "                    print('\\r','Training loss (for one batch) at step %s: %s' % (step, float(tf.reduce_mean(loss))),end=\"\",flush=True)\n",
    "                    #print('Seen so far: %s samples' % ((step + 1) * self.config.batch_size))\n",
    "                step+=1\n",
    "            print()\n",
    "            # 每个周期结束看一次\n",
    "            train_acc = train_acc_metric.result()\n",
    "            print('Training     acc over epoch %s: %s' % (times,float(train_acc)))\n",
    "            # Reset training metrics at the end of each epoch\n",
    "            train_acc_metric.reset_states()\n",
    "            \n",
    "            #验证过程\n",
    "            for x_batch_val, y_batch_val in val_dataset:\n",
    "                val_logits=self.model(x_batch_val)\n",
    "                val_acc_metric.update_state(y_batch_val,val_logits)\n",
    "            \n",
    "            val_acc=val_acc_metric.result()\n",
    "            print('Training val_acc over epoch %s: %s '%(times,float(val_acc)))\n",
    "            val_acc_metric.reset_states()\n",
    "\n",
    "            \n",
    "    def save_model(self):\n",
    "        if not self.model:\n",
    "            print(\"Call design_modelXX() to build the model first.\")\n",
    "        pass\n",
    "    \n",
    "    def eval_model(self):\n",
    "        if not self.model:\n",
    "            print(\"Call design_modelXX() to build the model first.\")\n",
    "        pass\n",
    "    \n",
    "    def view_train(self):\n",
    "        if not self.history:\n",
    "            print(\"Model has not been trained, train it first\")\n",
    "            return\n",
    "        \n",
    "        train=self.history.history[\"loss\"]\n",
    "        valid=self.history.history[\"val_loss\"]\n",
    "        name='loss'\n",
    "        plt.title('The %s with epoch runs'%name,fontsize=30)\n",
    "        plt.xlabel('epoch',fontsize=20)\n",
    "        plt.ylabel(name,fontsize=20)\n",
    "        plt.xticks(fontsize=20)\n",
    "        plt.yticks(fontsize=20)\n",
    "        plt.plot(train,label=name)\n",
    "        plt.plot(valid,label=\"val_\"+name)\n",
    "        plt.legend()\n",
    "        plt.gcf().set_size_inches(15,4)\n",
    "        plt.show()\n",
    "    #model=K.models.Model(inputs=[input_layer],outputs=[output_layer])\n",
    "    #model.compile('adam',loss='categorical_crossentropy',metrics=metrics)\n",
    "    #return model"
   ]
  },
  {
   "cell_type": "code",
   "execution_count": 65,
   "metadata": {
    "run_control": {
     "marked": true
    }
   },
   "outputs": [],
   "source": [
    "train_config=TrainingConfig()\n",
    "word_embedding=WordEmbedding()\n",
    "model=TextCNN(train_config,word_embedding)"
   ]
  },
  {
   "cell_type": "code",
   "execution_count": 66,
   "metadata": {
    "scrolled": true
   },
   "outputs": [
    {
     "name": "stdout",
     "output_type": "stream",
     "text": [
      "Model: \"TextCNN\"\n",
      "_________________________________________________________________\n",
      "Layer (type)                 Output Shape              Param #   \n",
      "=================================================================\n",
      "feature_input (InputLayer)   [(None, None)]            0         \n",
      "_________________________________________________________________\n",
      "embedding_9 (Embedding)      (None, None, 10)          100000    \n",
      "_________________________________________________________________\n",
      "conv1d_9 (Conv1D)            (None, None, 100)         5100      \n",
      "_________________________________________________________________\n",
      "batch_normalization_9 (Batch (None, None, 100)         400       \n",
      "_________________________________________________________________\n",
      "activation_9 (Activation)    (None, None, 100)         0         \n",
      "_________________________________________________________________\n",
      "global_max_pooling1d_9 (Glob (None, 100)               0         \n",
      "_________________________________________________________________\n",
      "feature_output (Dense)       (None, 64)                6464      \n",
      "_________________________________________________________________\n",
      "dense_9 (Dense)              (None, 2)                 130       \n",
      "=================================================================\n",
      "Total params: 112,094\n",
      "Trainable params: 111,894\n",
      "Non-trainable params: 200\n",
      "_________________________________________________________________\n"
     ]
    },
    {
     "data": {
      "text/plain": [
       "<tensorflow.python.keras.engine.training.Model at 0x1488cadd0>"
      ]
     },
     "execution_count": 66,
     "metadata": {},
     "output_type": "execute_result"
    }
   ],
   "source": [
    "model.design_model()"
   ]
  },
  {
   "cell_type": "code",
   "execution_count": 67,
   "metadata": {
    "run_control": {
     "marked": true
    }
   },
   "outputs": [],
   "source": [
    "class Dataset():\n",
    "    def __init__(self,config):\n",
    "        self.config=config\n",
    "    def load(self):\n",
    "        L=[]\n",
    "        for item in self.config.source:\n",
    "            L.append(np.load(item,allow_pickle=True, fix_imports=True))\n",
    "        return L"
   ]
  },
  {
   "cell_type": "code",
   "execution_count": 68,
   "metadata": {
    "run_control": {
     "marked": true
    }
   },
   "outputs": [],
   "source": [
    "data=Dataset(DataSourceConfig)\n",
    "train_data,test_data,train_labels,test_labels=data.load()"
   ]
  },
  {
   "cell_type": "code",
   "execution_count": 69,
   "metadata": {},
   "outputs": [
    {
     "name": "stdout",
     "output_type": "stream",
     "text": [
      "(22500, 256)\n",
      "(2500, 256)\n",
      " Training loss (for one batch) at step 150: 0.4542102813720703\n",
      "Training     acc over epoch 0: 0.6574222445487976\n",
      "Training val_acc over epoch 0: 0.8299999833106995 \n",
      " Training loss (for one batch) at step 150: 0.2171655297279358\n",
      "Training     acc over epoch 1: 0.8717333078384399\n",
      "Training val_acc over epoch 1: 0.8859999775886536 \n",
      " Training loss (for one batch) at step 150: 0.1336461305618286\n",
      "Training     acc over epoch 2: 0.9272000193595886\n",
      "Training val_acc over epoch 2: 0.8859999775886536 \n",
      " Training loss (for one batch) at step 150: 0.09564494341611862\n",
      "Training     acc over epoch 3: 0.9576444625854492\n",
      "Training val_acc over epoch 3: 0.876800000667572 \n",
      " Training loss (for one batch) at step 150: 0.033552203327417374\n",
      "Training     acc over epoch 4: 0.9705777764320374\n",
      "Training val_acc over epoch 4: 0.8392000198364258 \n"
     ]
    }
   ],
   "source": [
    "#费力讨好\n",
    "model.train_model_custom(x=train_data,y=train_labels)"
   ]
  },
  {
   "cell_type": "code",
   "execution_count": 41,
   "metadata": {},
   "outputs": [
    {
     "name": "stdout",
     "output_type": "stream",
     "text": [
      "Train on 22500 samples, validate on 2500 samples\n",
      "Epoch 1/5\n",
      "22500/22500 [==============================] - 3s 137us/sample - loss: 0.6849 - accuracy: 0.5507 - val_loss: 0.6776 - val_accuracy: 0.6936\n",
      "Epoch 2/5\n",
      "22500/22500 [==============================] - 2s 103us/sample - loss: 0.4330 - accuracy: 0.8097 - val_loss: 0.5410 - val_accuracy: 0.8744\n",
      "Epoch 3/5\n",
      "22500/22500 [==============================] - 2s 99us/sample - loss: 0.2872 - accuracy: 0.8900 - val_loss: 0.3504 - val_accuracy: 0.8872\n",
      "Epoch 4/5\n",
      "22500/22500 [==============================] - 2s 94us/sample - loss: 0.2101 - accuracy: 0.9265 - val_loss: 0.2871 - val_accuracy: 0.8856\n",
      "Epoch 5/5\n",
      "22500/22500 [==============================] - 2s 106us/sample - loss: 0.1438 - accuracy: 0.9536 - val_loss: 0.3405 - val_accuracy: 0.8868\n"
     ]
    }
   ],
   "source": [
    "model.train_model(x=train_data,y=train_labels)"
   ]
  },
  {
   "cell_type": "code",
   "execution_count": 43,
   "metadata": {},
   "outputs": [
    {
     "data": {
      "image/png": "[encoded data removed]",
      "text/plain": [
       "<Figure size 1080x288 with 1 Axes>"
      ]
     },
     "metadata": {
      "needs_background": "light"
     },
     "output_type": "display_data"
    }
   ],
   "source": [
    "model.view_train()"
   ]
  },
  {
   "cell_type": "code",
   "execution_count": null,
   "metadata": {},
   "outputs": [],
   "source": []
  },
  {
   "cell_type": "code",
   "execution_count": null,
   "metadata": {},
   "outputs": [],
   "source": []
  },
  {
   "cell_type": "code",
   "execution_count": null,
   "metadata": {},
   "outputs": [],
   "source": []
  },
  {
   "cell_type": "code",
   "execution_count": null,
   "metadata": {},
   "outputs": [],
   "source": []
  },
  {
   "cell_type": "code",
   "execution_count": null,
   "metadata": {},
   "outputs": [],
   "source": []
  }
 ],
 "metadata": {
  "kernelspec": {
   "display_name": "Python 3",
   "language": "python",
   "name": "python3"
  },
  "language_info": {
   "codemirror_mode": {
    "name": "ipython",
    "version": 3
   },
   "file_extension": ".py",
   "mimetype": "text/x-python",
   "name": "python",
   "nbconvert_exporter": "python",
   "pygments_lexer": "ipython3",
   "version": "3.7.4"
  },
  "toc": {
   "base_numbering": 1,
   "nav_menu": {},
   "number_sections": true,
   "sideBar": true,
   "skip_h1_title": false,
   "title_cell": "Table of Contents",
   "title_sidebar": "Contents",
   "toc_cell": false,
   "toc_position": {},
   "toc_section_display": true,
   "toc_window_display": false
  }
 },
 "nbformat": 4,
 "nbformat_minor": 2
}

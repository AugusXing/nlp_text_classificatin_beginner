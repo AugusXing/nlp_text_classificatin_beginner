{
 "cells": [
  {
   "cell_type": "markdown",
   "metadata": {},
   "source": [
    "# TextCNN"
   ]
  },
  {
   "cell_type": "markdown",
   "metadata": {},
   "source": [
    "参数配置，训练数据生成，模型结构，训练模型。"
   ]
  },
  {
   "cell_type": "code",
   "execution_count": 102,
   "metadata": {},
   "outputs": [],
   "source": [
    "import tensorflow as tf\n",
    "import tensorflow.keras as K\n",
    "import tensorflow.keras.layers as L\n",
    "import numpy as np\n",
    "from collections import Counter\n",
    "from sklearn.model_selection import train_test_split\n",
    "import matplotlib.pyplot as plt\n",
    "from tensorflow.keras.preprocessing.text import Tokenizer "
   ]
  },
  {
   "cell_type": "code",
   "execution_count": 103,
   "metadata": {},
   "outputs": [],
   "source": [
    "class TrainingConfig():\n",
    "    epochs = 5\n",
    "    batch_size= 128\n",
    "    learningRate=0.001\n",
    "    valRate=0.1\n",
    "    loss=['sparse_categorical_crossentropy']\n",
    "    metrics=['accuracy']\n",
    "    optimizer='adam'\n",
    "    \n",
    "class WordEmbedding():\n",
    "    sequenceLength=256\n",
    "    wordCount=10000\n",
    "    wordDim=10\n",
    "\n",
    "class DataSourceConfig():\n",
    "    source=[\"./dataset/imdb_train_data.npy\",\n",
    "           \"./dataset/imdb_test_data.npy\",\n",
    "           \"./dataset/imdb_train_labels.npy\",\n",
    "           \"./dataset/imdb_test_labels.npy\"]"
   ]
  },
  {
   "cell_type": "code",
   "execution_count": 107,
   "metadata": {},
   "outputs": [],
   "source": [
    "class TextCNN():\n",
    "    def __init__(self,config,wordEmbedding):\n",
    "        \n",
    "        self.model = None\n",
    "        self.history = None\n",
    "        self.config=config\n",
    "        self.emb=wordEmbedding\n",
    "        self.name=\"TextCNN\"\n",
    "      \n",
    "\n",
    "    def conv1D_with_bn_gp(self,filters,kernel_size):\n",
    "        blk = K.models.Sequential()\n",
    "        blk.add(L.Conv1D(filters=filters,kernel_size=kernel_size))\n",
    "        blk.add(L.BatchNormalization())\n",
    "        blk.add(L.Activation(\"relu\"))\n",
    "        blk.add(L.GlobalMaxPool1D())\n",
    "        return blk\n",
    "    \n",
    "    def design_model(self,hiden_size=64):\n",
    "        input_layer=L.Input(shape=(None,),name='feature_input')\n",
    "        x=L.Embedding(input_dim=self.emb.wordCount,output_dim=self.emb.wordDim,input_length=self.emb.sequenceLength)(input_layer)\n",
    "        \n",
    "        x=L.Conv1D(filters=100,kernel_size=5)(x)\n",
    "        x=L.BatchNormalization()(x)\n",
    "        x=L.Activation(\"relu\")(x)\n",
    "        x=L.GlobalMaxPool1D()(x)\n",
    "        \n",
    "        x=L.Dense(hiden_size,activation='relu',name=\"feature_output\")(x)\n",
    "        output_layer=L.Dense(2,activation='softmax')(x)\n",
    "        model=K.models.Model(inputs=[input_layer],outputs=[output_layer],name=self.name)\n",
    "        self.model=model\n",
    "        model.summary()\n",
    "        return model\n",
    "    \n",
    "    \n",
    "    def design_model_with_multi_kernel_size(self,hiden_size=64):\n",
    "        input_layer=L.Input(shape=(None,),name='feature_input')\n",
    "        x=L.Embedding(input_dim=self.emb.wordCount,output_dim=self.emb.wordDim,input_length=self.emb.sequenceLength)(input_layer)\n",
    "        \n",
    "        \n",
    "        x_5=self.conv1D_with_bn_gp(filters=100,kernel_size=5)(x)\n",
    "        x_4=self.conv1D_with_bn_gp(filters=100,kernel_size=4)(x)\n",
    "        x_3=self.conv1D_with_bn_gp(filters=100,kernel_size=3)(x)\n",
    "        \n",
    "        x=L.concatenate([x_3,x_4,x_5])\n",
    "        x=L.Dense(hiden_size,activation='relu',name=\"feature_output\")(x)\n",
    "        output_layer=L.Dense(2,activation='softmax')(x)\n",
    "        \n",
    "        model=K.models.Model(inputs=[input_layer],outputs=[output_layer],name=self.name)\n",
    "        self.model=model\n",
    "        model.summary()\n",
    "        return model\n",
    "    \n",
    "    def compile_model(self):\n",
    "        #assert()\n",
    "        if not self.model:\n",
    "            print(\"Call design_modelXX() to build the model first.\")\n",
    "            return\n",
    "        self.model.compile(optimizer=self.config.optimizer,loss=self.config.loss,metrics=self.config.metrics)\n",
    "\n",
    "    def train_model(self,x,y):\n",
    "        if not self.model:\n",
    "            print(\"Call design_modelXX() to build the model first.\")\n",
    "            return\n",
    "        self.compile_model()\n",
    "        self.history=self.model.fit(x=x,y=y,batch_size=self.config.batch_size,epochs=self.config.epochs,validation_split=self.config.valRate)\n",
    "        #self.model.compile()\n",
    "    \n",
    "    def save_model(self):\n",
    "        if not self.model:\n",
    "            print(\"Call design_modelXX() to build the model first.\")\n",
    "        pass\n",
    "    \n",
    "    def eval_model(self):\n",
    "        if not self.model:\n",
    "            print(\"Call design_modelXX() to build the model first.\")\n",
    "        pass\n",
    "    \n",
    "    def view_train(self):\n",
    "        if not self.history:\n",
    "            print(\"Model has not been trained, train it first\")\n",
    "            return\n",
    "        train=history.history[\"loss\"]\n",
    "        valid=history.history[\"val_loss\"]\n",
    "        plt.title('The %s with epoch runs'%name,fontsize=30)\n",
    "        plt.xlabel('epoch',fontsize=20)\n",
    "        plt.ylabel(name,fontsize=20)\n",
    "        plt.xticks(fontsize=20)\n",
    "        plt.yticks(fontsize=20)\n",
    "        plt.plot(train,label=name)\n",
    "        plt.plot(valid,label=\"val_\"+name)\n",
    "        plt.legend()\n",
    "        plt.gcf().set_size_inches(15,4)\n",
    "        plt.show()\n",
    "    #model=K.models.Model(inputs=[input_layer],outputs=[output_layer])\n",
    "    #model.compile('adam',loss='categorical_crossentropy',metrics=metrics)\n",
    "    #return model"
   ]
  },
  {
   "cell_type": "code",
   "execution_count": 105,
   "metadata": {
    "run_control": {
     "marked": true
    }
   },
   "outputs": [],
   "source": [
    "train_config=TrainingConfig()\n",
    "word_embedding=WordEmbedding()\n",
    "model=TextCNN(train_config,word_embedding)"
   ]
  },
  {
   "cell_type": "code",
   "execution_count": 106,
   "metadata": {},
   "outputs": [
    {
     "name": "stdout",
     "output_type": "stream",
     "text": [
      "Model: \"TextCNN\"\n",
      "__________________________________________________________________________________________________\n",
      "Layer (type)                    Output Shape         Param #     Connected to                     \n",
      "==================================================================================================\n",
      "feature_input (InputLayer)      [(None, None)]       0                                            \n",
      "__________________________________________________________________________________________________\n",
      "embedding_16 (Embedding)        (None, None, 10)     100000      feature_input[0][0]              \n",
      "__________________________________________________________________________________________________\n",
      "sequential_10 (Sequential)      (None, 100)          3500        embedding_16[0][0]               \n",
      "__________________________________________________________________________________________________\n",
      "sequential_9 (Sequential)       (None, 100)          4500        embedding_16[0][0]               \n",
      "__________________________________________________________________________________________________\n",
      "sequential_8 (Sequential)       (None, 100)          5500        embedding_16[0][0]               \n",
      "__________________________________________________________________________________________________\n",
      "concatenate_2 (Concatenate)     (None, 300)          0           sequential_10[0][0]              \n",
      "                                                                 sequential_9[0][0]               \n",
      "                                                                 sequential_8[0][0]               \n",
      "__________________________________________________________________________________________________\n",
      "feature_output (Dense)          (None, 64)           19264       concatenate_2[0][0]              \n",
      "__________________________________________________________________________________________________\n",
      "dense_12 (Dense)                (None, 2)            130         feature_output[0][0]             \n",
      "==================================================================================================\n",
      "Total params: 132,894\n",
      "Trainable params: 132,294\n",
      "Non-trainable params: 600\n",
      "__________________________________________________________________________________________________\n"
     ]
    },
    {
     "data": {
      "text/plain": [
       "<tensorflow.python.keras.engine.training.Model at 0x142fcde50>"
      ]
     },
     "execution_count": 106,
     "metadata": {},
     "output_type": "execute_result"
    }
   ],
   "source": [
    "model.design_model_with_multi_kernel_size()"
   ]
  },
  {
   "cell_type": "code",
   "execution_count": 83,
   "metadata": {
    "run_control": {
     "marked": true
    }
   },
   "outputs": [],
   "source": [
    "class Dataset():\n",
    "    def __init__(self,config):\n",
    "        self.config=config\n",
    "    def load(self):\n",
    "        L=[]\n",
    "        for item in self.config.source:\n",
    "            L.append(np.load(item,allow_pickle=True, fix_imports=True))\n",
    "        return L"
   ]
  },
  {
   "cell_type": "code",
   "execution_count": 84,
   "metadata": {},
   "outputs": [],
   "source": [
    "data=Dataset(DataSourceConfig)\n",
    "train_data,test_data,train_labels,test_labels=data.load()"
   ]
  },
  {
   "cell_type": "code",
   "execution_count": 85,
   "metadata": {},
   "outputs": [
    {
     "name": "stdout",
     "output_type": "stream",
     "text": [
      "Train on 22500 samples, validate on 2500 samples\n",
      "Epoch 1/5\n",
      "22500/22500 [==============================] - 24s 1ms/sample - loss: 0.5287 - accuracy: 0.7146 - val_loss: 0.6316 - val_accuracy: 0.8264\n",
      "Epoch 2/5\n",
      "22500/22500 [==============================] - 22s 982us/sample - loss: 0.2643 - accuracy: 0.8920 - val_loss: 0.4926 - val_accuracy: 0.8492\n",
      "Epoch 3/5\n",
      "22500/22500 [==============================] - 22s 962us/sample - loss: 0.1378 - accuracy: 0.9544 - val_loss: 0.3160 - val_accuracy: 0.8844\n",
      "Epoch 4/5\n",
      "22500/22500 [==============================] - 22s 994us/sample - loss: 0.0601 - accuracy: 0.9854 - val_loss: 0.3099 - val_accuracy: 0.8804\n",
      "Epoch 5/5\n",
      "22500/22500 [==============================] - 23s 1ms/sample - loss: 0.0195 - accuracy: 0.9975 - val_loss: 0.3902 - val_accuracy: 0.8760\n"
     ]
    }
   ],
   "source": [
    "model.train_model(x=train_data,y=train_labels)"
   ]
  },
  {
   "cell_type": "code",
   "execution_count": null,
   "metadata": {},
   "outputs": [],
   "source": []
  }
 ],
 "metadata": {
  "kernelspec": {
   "display_name": "Python 3",
   "language": "python",
   "name": "python3"
  },
  "language_info": {
   "codemirror_mode": {
    "name": "ipython",
    "version": 3
   },
   "file_extension": ".py",
   "mimetype": "text/x-python",
   "name": "python",
   "nbconvert_exporter": "python",
   "pygments_lexer": "ipython3",
   "version": "3.7.4"
  },
  "toc": {
   "base_numbering": 1,
   "nav_menu": {},
   "number_sections": true,
   "sideBar": true,
   "skip_h1_title": false,
   "title_cell": "Table of Contents",
   "title_sidebar": "Contents",
   "toc_cell": false,
   "toc_position": {},
   "toc_section_display": true,
   "toc_window_display": false
  }
 },
 "nbformat": 4,
 "nbformat_minor": 2
}

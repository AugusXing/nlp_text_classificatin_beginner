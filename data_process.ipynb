{
 "cells": [
  {
   "cell_type": "markdown",
   "metadata": {},
   "source": [
    "# 数据说明 "
   ]
  },
  {
   "cell_type": "code",
   "execution_count": 72,
   "metadata": {
    "run_control": {
     "marked": true
    }
   },
   "outputs": [],
   "source": [
    "import tensorflow as tf\n",
    "import tensorflow.keras as K\n",
    "import numpy as np"
   ]
  },
  {
   "cell_type": "markdown",
   "metadata": {},
   "source": [
    "IMDB 数据集已经打包在 Tensorflow 中。该数据集已经经过预处理，评论（单词序列）已经被转换为整数序列，其中每个整数表示字典中的特定单词。"
   ]
  },
  {
   "cell_type": "markdown",
   "metadata": {},
   "source": [
    "我们将使用来源于网络电影数据库（Internet Movie Database）的 IMDB 数据集（IMDB dataset），其包含 50,000 条影评文本。从该数据集切割出的25,000条评论用作训练，另外 25,000 条用作测试。训练集与测试集是平衡的（balanced），意味着它们包含相等数量的积极和消极评论。"
   ]
  },
  {
   "cell_type": "code",
   "execution_count": 73,
   "metadata": {},
   "outputs": [],
   "source": [
    "imdb = K.datasets.imdb\n",
    "(train_data, train_labels), (test_data, test_labels) = imdb.load_data(num_words=10000)"
   ]
  },
  {
   "cell_type": "code",
   "execution_count": 74,
   "metadata": {
    "scrolled": true
   },
   "outputs": [
    {
     "name": "stdout",
     "output_type": "stream",
     "text": [
      "Training entries: 25000, labels: 25000\n"
     ]
    }
   ],
   "source": [
    "print(\"Training entries: {}, labels: {}\".format(len(train_data), len(train_labels)))"
   ]
  },
  {
   "cell_type": "markdown",
   "metadata": {},
   "source": [
    "# 词与索引的转换"
   ]
  },
  {
   "cell_type": "code",
   "execution_count": 75,
   "metadata": {
    "run_control": {
     "marked": true
    }
   },
   "outputs": [],
   "source": [
    "word_index=imdb.get_word_index()"
   ]
  },
  {
   "cell_type": "markdown",
   "metadata": {},
   "source": [
    "增加pad,start,unk,unused等词汇"
   ]
  },
  {
   "cell_type": "code",
   "execution_count": 76,
   "metadata": {},
   "outputs": [],
   "source": [
    "word_index={k:(v+3) for k,v in word_index.items()}\n",
    "word_index[\"<PAD>\"] = 0\n",
    "word_index[\"<START>\"] = 1\n",
    "word_index[\"<UNK>\"] = 2  # unknown\n",
    "word_index[\"<UNUSED>\"] = 3"
   ]
  },
  {
   "cell_type": "code",
   "execution_count": 77,
   "metadata": {},
   "outputs": [],
   "source": [
    "reverse_word_index = dict([(value, key) for (key, value) in word_index.items()])"
   ]
  },
  {
   "cell_type": "markdown",
   "metadata": {},
   "source": [
    "## 从索引到句子"
   ]
  },
  {
   "cell_type": "code",
   "execution_count": 78,
   "metadata": {
    "run_control": {
     "marked": true
    }
   },
   "outputs": [],
   "source": [
    "def decode_review(text):\n",
    "    return ' '.join([reverse_word_index.get(i, '?') for i in text])"
   ]
  },
  {
   "cell_type": "code",
   "execution_count": 85,
   "metadata": {},
   "outputs": [
    {
     "data": {
      "text/plain": [
       "\"<START> begins better than it ends funny that the russian submarine crew <UNK> all other actors it's like those scenes where documentary shots br br spoiler part the message <UNK> was contrary to the whole story it just does not <UNK> br br\""
      ]
     },
     "execution_count": 85,
     "metadata": {},
     "output_type": "execute_result"
    }
   ],
   "source": [
    "decode_review(train_data)"
   ]
  },
  {
   "cell_type": "code",
   "execution_count": 90,
   "metadata": {
    "run_control": {
     "marked": true
    }
   },
   "outputs": [],
   "source": [
    "train_data = K.preprocessing.sequence.pad_sequences(train_data,\n",
    "                                                        value=word_index[\"<PAD>\"],\n",
    "                                                        padding='post',\n",
    "                                                        maxlen=256)\n",
    "\n",
    "test_data = K.preprocessing.sequence.pad_sequences(test_data,\n",
    "                                                       value=word_index[\"<PAD>\"],\n",
    "                                                       padding='post',\n",
    "                                                       maxlen=256)"
   ]
  },
  {
   "cell_type": "code",
   "execution_count": 92,
   "metadata": {},
   "outputs": [],
   "source": [
    "np.save(\"./dataset/imdb_train_data\",train_data)\n",
    "np.save(\"./dataset/imdb_test_data\",test_data)\n",
    "np.save(\"./dataset/imdb_train_labels\",train_labels)\n",
    "np.save(\"./dataset/imdb_test_labels\",test_labels)"
   ]
  },
  {
   "cell_type": "markdown",
   "metadata": {},
   "source": [
    "# 测试使用"
   ]
  },
  {
   "cell_type": "code",
   "execution_count": 21,
   "metadata": {},
   "outputs": [
    {
     "name": "stdout",
     "output_type": "stream",
     "text": [
      "Model: \"sequential\"\n",
      "_________________________________________________________________\n",
      "Layer (type)                 Output Shape              Param #   \n",
      "=================================================================\n",
      "embedding (Embedding)        (None, None, 16)          160000    \n",
      "_________________________________________________________________\n",
      "global_average_pooling1d (Gl (None, 16)                0         \n",
      "_________________________________________________________________\n",
      "dense (Dense)                (None, 16)                272       \n",
      "_________________________________________________________________\n",
      "dense_1 (Dense)              (None, 1)                 17        \n",
      "=================================================================\n",
      "Total params: 160,289\n",
      "Trainable params: 160,289\n",
      "Non-trainable params: 0\n",
      "_________________________________________________________________\n"
     ]
    }
   ],
   "source": [
    "# 输入形状是用于电影评论的词汇数目（10,000 词）\n",
    "vocab_size = 10000\n",
    "\n",
    "model = K.Sequential()\n",
    "model.add(K.layers.Embedding(vocab_size, 16))\n",
    "model.add(K.layers.GlobalAveragePooling1D())\n",
    "model.add(K.layers.Dense(16, activation='relu'))\n",
    "model.add(K.layers.Dense(1, activation='sigmoid'))\n",
    "\n",
    "model.summary()"
   ]
  },
  {
   "cell_type": "code",
   "execution_count": 22,
   "metadata": {},
   "outputs": [],
   "source": [
    "model.compile(optimizer='adam',\n",
    "              loss='binary_crossentropy',\n",
    "              metrics=['accuracy'])"
   ]
  },
  {
   "cell_type": "code",
   "execution_count": 24,
   "metadata": {},
   "outputs": [],
   "source": [
    "x_val = train_data[:10000]\n",
    "partial_x_train = train_data[10000:]\n",
    "\n",
    "y_val = train_labels[:10000]\n",
    "partial_y_train = train_labels[10000:]"
   ]
  },
  {
   "cell_type": "code",
   "execution_count": 25,
   "metadata": {
    "collapsed": true
   },
   "outputs": [
    {
     "name": "stdout",
     "output_type": "stream",
     "text": [
      "Train on 15000 samples, validate on 10000 samples\n",
      "Epoch 1/40\n",
      "15000/15000 [==============================] - 2s 109us/sample - loss: 0.6916 - accuracy: 0.6072 - val_loss: 0.6890 - val_accuracy: 0.5897\n",
      "Epoch 2/40\n",
      "15000/15000 [==============================] - 1s 37us/sample - loss: 0.6841 - accuracy: 0.6676 - val_loss: 0.6792 - val_accuracy: 0.7378\n",
      "Epoch 3/40\n",
      "15000/15000 [==============================] - 1s 42us/sample - loss: 0.6701 - accuracy: 0.7607 - val_loss: 0.6628 - val_accuracy: 0.7558\n",
      "Epoch 4/40\n",
      "15000/15000 [==============================] - 1s 46us/sample - loss: 0.6475 - accuracy: 0.7798 - val_loss: 0.6376 - val_accuracy: 0.7647\n",
      "Epoch 5/40\n",
      "15000/15000 [==============================] - 1s 55us/sample - loss: 0.6163 - accuracy: 0.7874 - val_loss: 0.6051 - val_accuracy: 0.7771\n",
      "Epoch 6/40\n",
      "15000/15000 [==============================] - 1s 44us/sample - loss: 0.5772 - accuracy: 0.8089 - val_loss: 0.5671 - val_accuracy: 0.8018\n",
      "Epoch 7/40\n",
      "15000/15000 [==============================] - 1s 46us/sample - loss: 0.5331 - accuracy: 0.8271 - val_loss: 0.5260 - val_accuracy: 0.8174\n",
      "Epoch 8/40\n",
      "15000/15000 [==============================] - 1s 53us/sample - loss: 0.4884 - accuracy: 0.8437 - val_loss: 0.4867 - val_accuracy: 0.8287\n",
      "Epoch 9/40\n",
      "15000/15000 [==============================] - 1s 51us/sample - loss: 0.4457 - accuracy: 0.8574 - val_loss: 0.4507 - val_accuracy: 0.8408\n",
      "Epoch 10/40\n",
      "15000/15000 [==============================] - 1s 44us/sample - loss: 0.4068 - accuracy: 0.8683 - val_loss: 0.4187 - val_accuracy: 0.8499\n",
      "Epoch 11/40\n",
      "15000/15000 [==============================] - 1s 48us/sample - loss: 0.3730 - accuracy: 0.8793 - val_loss: 0.3927 - val_accuracy: 0.8552\n",
      "Epoch 12/40\n",
      "15000/15000 [==============================] - 1s 50us/sample - loss: 0.3449 - accuracy: 0.8846 - val_loss: 0.3715 - val_accuracy: 0.8615\n",
      "Epoch 13/40\n",
      "15000/15000 [==============================] - 1s 44us/sample - loss: 0.3204 - accuracy: 0.8926 - val_loss: 0.3554 - val_accuracy: 0.8653\n",
      "Epoch 14/40\n",
      "15000/15000 [==============================] - 1s 46us/sample - loss: 0.2998 - accuracy: 0.8975 - val_loss: 0.3417 - val_accuracy: 0.8697\n",
      "Epoch 15/40\n",
      "15000/15000 [==============================] - 1s 53us/sample - loss: 0.2824 - accuracy: 0.9035 - val_loss: 0.3299 - val_accuracy: 0.8728\n",
      "Epoch 16/40\n",
      "15000/15000 [==============================] - 1s 42us/sample - loss: 0.2660 - accuracy: 0.9081 - val_loss: 0.3207 - val_accuracy: 0.8757\n",
      "Epoch 17/40\n",
      "15000/15000 [==============================] - 1s 45us/sample - loss: 0.2521 - accuracy: 0.9138 - val_loss: 0.3132 - val_accuracy: 0.8786\n",
      "Epoch 18/40\n",
      "15000/15000 [==============================] - 1s 45us/sample - loss: 0.2392 - accuracy: 0.9173 - val_loss: 0.3079 - val_accuracy: 0.8771\n",
      "Epoch 19/40\n",
      "15000/15000 [==============================] - 1s 44us/sample - loss: 0.2277 - accuracy: 0.9218 - val_loss: 0.3021 - val_accuracy: 0.8813\n",
      "Epoch 20/40\n",
      "15000/15000 [==============================] - 1s 44us/sample - loss: 0.2170 - accuracy: 0.9253 - val_loss: 0.2977 - val_accuracy: 0.8808\n",
      "Epoch 21/40\n",
      "15000/15000 [==============================] - 1s 47us/sample - loss: 0.2076 - accuracy: 0.9282 - val_loss: 0.2954 - val_accuracy: 0.8813\n",
      "Epoch 22/40\n",
      "15000/15000 [==============================] - 1s 43us/sample - loss: 0.1981 - accuracy: 0.9331 - val_loss: 0.2913 - val_accuracy: 0.8834\n",
      "Epoch 23/40\n",
      "15000/15000 [==============================] - 1s 50us/sample - loss: 0.1890 - accuracy: 0.9375 - val_loss: 0.2900 - val_accuracy: 0.8835\n",
      "Epoch 24/40\n",
      "15000/15000 [==============================] - 1s 44us/sample - loss: 0.1813 - accuracy: 0.9397 - val_loss: 0.2881 - val_accuracy: 0.8842\n",
      "Epoch 25/40\n",
      "15000/15000 [==============================] - 1s 54us/sample - loss: 0.1739 - accuracy: 0.9439 - val_loss: 0.2872 - val_accuracy: 0.8847\n",
      "Epoch 26/40\n",
      "15000/15000 [==============================] - 1s 49us/sample - loss: 0.1664 - accuracy: 0.9469 - val_loss: 0.2866 - val_accuracy: 0.8844\n",
      "Epoch 27/40\n",
      "15000/15000 [==============================] - 1s 69us/sample - loss: 0.1597 - accuracy: 0.9491 - val_loss: 0.2860 - val_accuracy: 0.8859\n",
      "Epoch 28/40\n",
      "15000/15000 [==============================] - 1s 51us/sample - loss: 0.1536 - accuracy: 0.9527 - val_loss: 0.2863 - val_accuracy: 0.8848\n",
      "Epoch 29/40\n",
      "15000/15000 [==============================] - 1s 61us/sample - loss: 0.1473 - accuracy: 0.9551 - val_loss: 0.2875 - val_accuracy: 0.8854\n",
      "Epoch 30/40\n",
      "15000/15000 [==============================] - 1s 42us/sample - loss: 0.1416 - accuracy: 0.9564 - val_loss: 0.2871 - val_accuracy: 0.8856\n",
      "Epoch 31/40\n",
      "15000/15000 [==============================] - 1s 37us/sample - loss: 0.1363 - accuracy: 0.9593 - val_loss: 0.2883 - val_accuracy: 0.8860\n",
      "Epoch 32/40\n",
      "15000/15000 [==============================] - 1s 37us/sample - loss: 0.1311 - accuracy: 0.9607 - val_loss: 0.2904 - val_accuracy: 0.8852\n",
      "Epoch 33/40\n",
      "15000/15000 [==============================] - 0s 33us/sample - loss: 0.1260 - accuracy: 0.9633 - val_loss: 0.2911 - val_accuracy: 0.8857\n",
      "Epoch 34/40\n",
      "15000/15000 [==============================] - 1s 45us/sample - loss: 0.1210 - accuracy: 0.9655 - val_loss: 0.2930 - val_accuracy: 0.8861\n",
      "Epoch 35/40\n",
      "15000/15000 [==============================] - 1s 40us/sample - loss: 0.1167 - accuracy: 0.9669 - val_loss: 0.2953 - val_accuracy: 0.8855\n",
      "Epoch 36/40\n",
      "15000/15000 [==============================] - 1s 38us/sample - loss: 0.1120 - accuracy: 0.9685 - val_loss: 0.2973 - val_accuracy: 0.8844\n",
      "Epoch 37/40\n",
      "15000/15000 [==============================] - 1s 38us/sample - loss: 0.1082 - accuracy: 0.9700 - val_loss: 0.2996 - val_accuracy: 0.8854\n",
      "Epoch 38/40\n",
      "15000/15000 [==============================] - 1s 36us/sample - loss: 0.1038 - accuracy: 0.9723 - val_loss: 0.3023 - val_accuracy: 0.8842\n",
      "Epoch 39/40\n",
      "15000/15000 [==============================] - 0s 29us/sample - loss: 0.0999 - accuracy: 0.9734 - val_loss: 0.3063 - val_accuracy: 0.8824\n",
      "Epoch 40/40\n",
      "15000/15000 [==============================] - 0s 32us/sample - loss: 0.0963 - accuracy: 0.9748 - val_loss: 0.3082 - val_accuracy: 0.8837\n"
     ]
    }
   ],
   "source": [
    "history = model.fit(partial_x_train,\n",
    "                    partial_y_train,\n",
    "                    epochs=40,\n",
    "                    batch_size=512,\n",
    "                    validation_data=(x_val, y_val),\n",
    "                    verbose=1)"
   ]
  },
  {
   "cell_type": "code",
   "execution_count": 26,
   "metadata": {},
   "outputs": [
    {
     "name": "stdout",
     "output_type": "stream",
     "text": [
      "25000/1 - 1s - loss: 0.3359 - accuracy: 0.8722\n",
      "[0.32810799520492556, 0.8722]\n"
     ]
    }
   ],
   "source": [
    "results = model.evaluate(test_data,  test_labels, verbose=2)\n",
    "\n",
    "print(results)"
   ]
  },
  {
   "cell_type": "code",
   "execution_count": 27,
   "metadata": {},
   "outputs": [
    {
     "data": {
      "text/plain": [
       "dict_keys(['loss', 'accuracy', 'val_loss', 'val_accuracy'])"
      ]
     },
     "execution_count": 27,
     "metadata": {},
     "output_type": "execute_result"
    }
   ],
   "source": [
    "history_dict = history.history\n",
    "history_dict.keys()"
   ]
  },
  {
   "cell_type": "code",
   "execution_count": 30,
   "metadata": {
    "scrolled": true
   },
   "outputs": [
    {
     "data": {
      "image/png": "[encoded data removed]",
      "text/plain": [
       "<Figure size 432x288 with 1 Axes>"
      ]
     },
     "metadata": {
      "needs_background": "light"
     },
     "output_type": "display_data"
    }
   ],
   "source": [
    "import matplotlib.pyplot as plt\n",
    "\n",
    "acc = history_dict['accuracy']\n",
    "val_acc = history_dict['val_accuracy']\n",
    "loss = history_dict['loss']\n",
    "val_loss = history_dict['val_loss']\n",
    "\n",
    "epochs = range(1, len(acc) + 1)\n",
    "\n",
    "# “bo”代表 \"蓝点\"\n",
    "plt.plot(epochs, loss, 'bo', label='Training loss')\n",
    "# b代表“蓝色实线”\n",
    "plt.plot(epochs, val_loss, 'b', label='Validation loss')\n",
    "plt.title('Training and validation loss')\n",
    "plt.xlabel('Epochs')\n",
    "plt.ylabel('Loss')\n",
    "plt.legend()\n",
    "\n",
    "plt.show()"
   ]
  },
  {
   "cell_type": "code",
   "execution_count": 29,
   "metadata": {},
   "outputs": [
    {
     "data": {
      "image/png": "[encoded data removed]",
      "text/plain": [
       "<Figure size 432x288 with 1 Axes>"
      ]
     },
     "metadata": {
      "needs_background": "light"
     },
     "output_type": "display_data"
    }
   ],
   "source": [
    "plt.clf()   # 清除数字\n",
    "\n",
    "plt.plot(epochs, acc, 'bo', label='Training acc')\n",
    "plt.plot(epochs, val_acc, 'b', label='Validation acc')\n",
    "plt.title('Training and validation accuracy')\n",
    "plt.xlabel('Epochs')\n",
    "plt.ylabel('Accuracy')\n",
    "plt.legend()\n",
    "\n",
    "plt.show()"
   ]
  },
  {
   "cell_type": "code",
   "execution_count": null,
   "metadata": {},
   "outputs": [],
   "source": []
  }
 ],
 "metadata": {
  "kernelspec": {
   "display_name": "Python 3",
   "language": "python",
   "name": "python3"
  },
  "language_info": {
   "codemirror_mode": {
    "name": "ipython",
    "version": 3
   },
   "file_extension": ".py",
   "mimetype": "text/x-python",
   "name": "python",
   "nbconvert_exporter": "python",
   "pygments_lexer": "ipython3",
   "version": "3.7.4"
  },
  "toc": {
   "base_numbering": 1,
   "nav_menu": {},
   "number_sections": true,
   "sideBar": true,
   "skip_h1_title": false,
   "title_cell": "Table of Contents",
   "title_sidebar": "Contents",
   "toc_cell": false,
   "toc_position": {},
   "toc_section_display": true,
   "toc_window_display": false
  }
 },
 "nbformat": 4,
 "nbformat_minor": 2
}
